{
 "cells": [
  {
   "cell_type": "markdown",
   "id": "aa3bede4-e589-4671-80fa-123df49720a7",
   "metadata": {},
   "source": [
    "# Before running this notebook, you need to finish the \"preprocess_waymo\" notebook first"
   ]
  },
  {
   "cell_type": "code",
   "execution_count": null,
   "id": "026e7c09-507b-4758-85dc-bce03b9c08df",
   "metadata": {},
   "outputs": [],
   "source": [
    "import matplotlib.pyplot as plt\n",
    "import numpy as np\n",
    "\n",
    "import tensorflow as tf\n",
    "import tensorflow_probability as tfp\n",
    "from tensorflow_probability import distributions as tfd\n",
    "\n",
    "import sys\n",
    "sys.path.append('../src/')\n",
    "\n",
    "import utils.utils as utils\n",
    "import utils.dataloader_utils as dataloader_utils\n",
    "import utils.train_utils as train_utils\n",
    "\n",
    "import json\n",
    "from tqdm import tqdm\n",
    "import gc\n",
    "from copy import deepcopy\n",
    "\n",
    "%load_ext autoreload\n",
    "%autoreload 2"
   ]
  },
  {
   "cell_type": "code",
   "execution_count": 2,
   "id": "03b20b99",
   "metadata": {},
   "outputs": [
    {
     "data": {
      "text/plain": [
       "[PhysicalDevice(name='/physical_device:GPU:0', device_type='GPU')]"
      ]
     },
     "execution_count": 2,
     "metadata": {},
     "output_type": "execute_result"
    }
   ],
   "source": [
    "# You need GPU to run this notebook\n",
    "tf.config.experimental.list_physical_devices('GPU')"
   ]
  },
  {
   "cell_type": "markdown",
   "id": "beb2be9a",
   "metadata": {},
   "source": [
    "## Step 1: Load Data"
   ]
  },
  {
   "cell_type": "code",
   "execution_count": 6,
   "id": "2301e254",
   "metadata": {},
   "outputs": [],
   "source": [
    "BATCH_SIZE = 1024\n",
    "num_points_in_one_traj = 51\n",
    "object_type = 'cyclist' "
   ]
  },
  {
   "cell_type": "code",
   "execution_count": null,
   "id": "2863c78d",
   "metadata": {},
   "outputs": [],
   "source": [
    "if object_type == 'vehicle':\n",
    "    with open('data/' + object_type + '/agt_trajs_' + str(num_points_in_one_traj) + '_json/agt_trajs_select_non_outlier_indicies.json', \"r\") as read_file:\n",
    "        idx_trajs_select = json.load(read_file)\n",
    "\n",
    "    list_dataset = dataloader_utils.generate_selected_file_list_dataset('data/' + object_type + '/agt_trajs_json/', idx_trajs_select)\n",
    "    start_idx_dataset = dataloader_utils.generate_selected_start_indicies_dataset('data/' + object_type + '/agt_trajs_' + str(num_points_in_one_traj) + '_json/agt_trajs_start_point_indicies.json')\n",
    "    combined_dataset = tf.data.Dataset.zip((list_dataset, start_idx_dataset))\n",
    "else:\n",
    "    with open('data/' + object_type + '/agt_trajs_' + str(num_points_in_one_traj) + '_json/agt_trajs_outlier_indicies.json', \"r\") as read_file:\n",
    "        idx_outlier = json.load(read_file)\n",
    "        \n",
    "    list_dataset = dataloader_utils.generate_file_list_dataset('data/' + object_type + '/agt_trajs_json/', idx_outlier)\n",
    "    start_idx_dataset = dataloader_utils.generate_start_indicies_dataset('data/' + object_type + '/agt_trajs_' + str(num_points_in_one_traj) + '_json/agt_trajs_start_point_indicies.json', idx_outlier)\n",
    "\n",
    "combined_dataset = tf.data.Dataset.zip((list_dataset, start_idx_dataset))\n",
    "\n",
    "dataProcessor = dataloader_utils.DataProcessor(BATCH_SIZE, combined_dataset, num_points_in_one_traj, traj_type = 'agt_traj')\n",
    "dataProcessor.load_process(shuffle = False)\n",
    "\n",
    "print(dataProcessor.loaded_dataset.__len__())"
   ]
  },
  {
   "cell_type": "code",
   "execution_count": 8,
   "id": "02cdbe28",
   "metadata": {},
   "outputs": [
    {
     "name": "stdout",
     "output_type": "stream",
     "text": [
      "(622, 51) (622, 102) (622, 51) (622, 51) (622, 51, 2, 2)\n"
     ]
    },
    {
     "data": {
      "image/png": "[encoded data removed]",
      "text/plain": [
       "<Figure size 432x288 with 1 Axes>"
      ]
     },
     "metadata": {
      "needs_background": "light"
     },
     "output_type": "display_data"
    },
    {
     "data": {
      "image/png": "[encoded data removed]",
      "text/plain": [
       "<Figure size 432x288 with 1 Axes>"
      ]
     },
     "metadata": {
      "needs_background": "light"
     },
     "output_type": "display_data"
    }
   ],
   "source": [
    "# Let's have a first insight, how distance and angle in polar coordinate distributed\n",
    "fig1, ax1 = plt.subplots()\n",
    "fig2, ax2 = plt.subplots()\n",
    "\n",
    "d_all = np.zeros((list_dataset.__len__(), num_points_in_one_traj))\n",
    "theta_all = np.zeros((list_dataset.__len__(), num_points_in_one_traj))    \n",
    "    \n",
    "start_batch_idx = 0\n",
    "\n",
    "for times, agt_traj, d_norm, theta, R_ego_to_map in dataProcessor.loaded_dataset:\n",
    "    batch_size = times.shape[0]    \n",
    "    d_all[start_batch_idx:start_batch_idx+batch_size] = d_norm\n",
    "    theta_all[start_batch_idx:start_batch_idx+batch_size] = theta\n",
    "    start_batch_idx = start_batch_idx+batch_size\n",
    "    \n",
    "ax1.hist(d_all.reshape(-1), bins = 100)\n",
    "ax1.set_title('Distance Histogram')\n",
    "ax2.hist(theta_all.reshape(-1), bins = 100)\n",
    "ax2.set_title('Theta (Alpha) Histogram')\n",
    "print(times.shape, agt_traj.shape, d_norm.shape, theta.shape, R_ego_to_map.shape)"
   ]
  },
  {
   "cell_type": "markdown",
   "id": "36656816",
   "metadata": {},
   "source": [
    "## Step 2: Empirical Bayes Analysis for Agent Trajectory"
   ]
  },
  {
   "cell_type": "code",
   "execution_count": 9,
   "id": "96b32429",
   "metadata": {},
   "outputs": [],
   "source": [
    "# longer trajectories need more epochs\n",
    "EPOCHS = 50\n",
    "\n",
    "# longer trajectories need lower lr, consider using https://www.tensorflow.org/api_docs/python/tf/keras/optimizers/schedules/PiecewiseConstantDecay\n",
    "lr = 5e-3"
   ]
  },
  {
   "cell_type": "code",
   "execution_count": null,
   "id": "a9a119de",
   "metadata": {
    "tags": []
   },
   "outputs": [],
   "source": [
    "losses = []\n",
    "best_losses = []\n",
    "best_epoch_losses = []\n",
    "best_epochs = []\n",
    "bic_scores = []\n",
    "aic_scores = []\n",
    "A_list, B_list = [], []\n",
    "optimizers_ser = []\n",
    "t_scale_factor = (num_points_in_one_traj-1) / 10 # The time duration of one trajectory, for scaling time to interval (0,1)\n",
    "log_root_dir = 'logs/gradient_tape/' + object_type + '/agt_xy_polar_plus_const_' + str(num_points_in_one_traj)\n",
    "degrees = np.linspace(1, 8, 8, dtype=np.int16) # Analyse polynomials from degree 1 to 8\n",
    "\n",
    "for i_d, deg in enumerate(degrees):\n",
    "    print('Analysing Deg ',deg)\n",
    "    model_losses = []\n",
    "    \n",
    "    # Initialize optimizer\n",
    "    optimizer = tf.keras.optimizers.Adam(learning_rate=lr)   \n",
    "    optimizers_ser.append(tf.keras.optimizers.serialize(optimizer))\n",
    "    \n",
    "    # Initialize all trainable variables\n",
    "    A = tf.Variable(np.random.randn(2*(deg), 2*(deg))*1e-1, dtype=tf.float64, name='alpha') # Model uncertainty. Note: 0-th parameter (start position) is not interested\n",
    "    B_d = tf.Variable(np.random.randn(3, 1), dtype=tf.float64, name='beta_d') \n",
    "    B_theta = tf.Variable(np.random.randn(1), dtype=tf.float64, name='beta_theta')\n",
    "    B_const =  tf.Variable(np.random.randn(1), dtype=tf.float64, name='beta_const')\n",
    "    \n",
    "    # Initialize tf summary writer\n",
    "    train_log_dir = log_root_dir + '/deg_' + str(deg)\n",
    "    train_summary_writer = tf.summary.create_file_writer(train_log_dir)  \n",
    "    \n",
    "    # Start Training\n",
    "    best_epoch_loss, best_epoch, best_alpha, best_beta_d, best_beta_theta, best_beta_const = train_utils.train_agt(alpha=A, beta_d=B_d, beta_theta=B_theta, beta_const = B_const, t_scale_factor = t_scale_factor, degree = deg,\n",
    "                                                                                                                   opti=optimizer, epochs = EPOCHS, data_loader=dataProcessor.loaded_dataset, model_losses = model_losses, \n",
    "                                                                                                                   tf_summary_writer = train_summary_writer, verbose = True, early_stop=False)\n",
    "            \n",
    "    # Add loss\n",
    "    losses.append(model_losses)\n",
    "    best_epoch_losses.append([best_epoch_loss])\n",
    "    \n",
    "    # store the best epoch\n",
    "    best_epochs.append(best_epoch)\n",
    "    \n",
    "    # Compute AIC and BIC\n",
    "    aic_score, bic_score = utils.compute_AIC_BIC(nll = best_epoch_loss, deg = deg, num_points = num_points_in_one_traj, dof_in_ob = 5)\n",
    "\n",
    "    bic_scores.append(bic_score)\n",
    "    aic_scores.append(aic_score)\n",
    "    \n",
    "    # Compute the model uncertainty, A_unscaled = np.linalg.inv(scale_mat) @ A_scaled\n",
    "    A_scale_mat = utils.polyBasisScale(t_scale_factor, deg)\n",
    "    A_scale_mat = A_scale_mat[1:, 1:]\n",
    "    A_est = np.linalg.inv(np.kron(np.eye(2), A_scale_mat)) @ best_alpha.numpy()\n",
    "    A_est = A_est @ A_est.T # This is the unscaled model parameter covariance\n",
    "    A_list.append(A_est)\n",
    "    \n",
    "    # Compute the observation uncertainty and store\n",
    "    # Note that parameters for observation noise are all reconstructed as they are computed in MVN.\n",
    "    B_est = {'B_d': (tf.math.softplus(best_beta_d)).numpy(), 'B_theta': (tf.math.softplus(best_beta_theta)).numpy(),'B_const': (tf.math.softplus(best_beta_const)).numpy()} \n",
    "    B_list.append(B_est)\n",
    "    print(\"Degree: {}, NLL: {}, BIC: {}, AIC: {}\".format(deg, model_losses[-1], bic_score, aic_score))"
   ]
  },
  {
   "cell_type": "code",
   "execution_count": 39,
   "id": "e156f66f",
   "metadata": {},
   "outputs": [],
   "source": [
    "result = utils.calculate_result(degrees, bic_scores, aic_scores, A_list, B_list, best_epoch_losses, best_epochs, lr, optimizers_ser, EPOCHS, BATCH_SIZE)"
   ]
  },
  {
   "cell_type": "code",
   "execution_count": 43,
   "id": "c7d94ec3",
   "metadata": {},
   "outputs": [],
   "source": [
    "utils.save_result(folder_dir =log_root_dir, file_name='result_summary', result=result)\n",
    "\n",
    "with open(log_root_dir + '/' + 'optimizers' + '.json', \"w\") as write_file:\n",
    "    json.dump(optimizers_ser, write_file, cls=NumpyEncoder)"
   ]
  },
  {
   "cell_type": "markdown",
   "id": "05f35a44-d43e-48f7-a99d-1b61971f80b9",
   "metadata": {},
   "source": [
    "## Test: Plot the sigma_d with distance"
   ]
  },
  {
   "cell_type": "code",
   "execution_count": 45,
   "id": "c1c22b73",
   "metadata": {},
   "outputs": [
    {
     "data": {
      "text/plain": [
       "Text(0, 0.5, '[m]')"
      ]
     },
     "execution_count": 45,
     "metadata": {},
     "output_type": "execute_result"
    },
    {
     "data": {
      "image/png": "[encoded data removed]",
      "text/plain": [
       "<Figure size 432x288 with 1 Axes>"
      ]
     },
     "metadata": {
      "needs_background": "light"
     },
     "output_type": "display_data"
    }
   ],
   "source": [
    "fig, ax = plt.subplots()\n",
    "d = np.linspace(0, 100, 1000)\n",
    "theta = 0\n",
    "sigmas_d = []\n",
    "\n",
    "wd = (result['best_aic_B']['B_d'])\n",
    "for d_i in d:\n",
    "    sigma = np.sqrt(wd[0] + wd[1]*d_i + wd[2]* (d_i**2))\n",
    "    sigmas_d.append(sigma)\n",
    "ax.plot(d, sigmas_d, label = '${\\sigma}_{d}$', linewidth = 3)  \n",
    "ax.legend(fontsize=14)\n",
    "ax.set_xlabel(\"Distance [m]\", fontsize=14)\n",
    "ax.set_ylabel(\"[m]\", fontsize=14)"
   ]
  }
 ],
 "metadata": {
  "kernelspec": {
   "display_name": "Environment (conda_tensorflow2_p38)",
   "language": "python",
   "name": "conda_tensorflow2_p38"
  },
  "language_info": {
   "codemirror_mode": {
    "name": "ipython",
    "version": 3
   },
   "file_extension": ".py",
   "mimetype": "text/x-python",
   "name": "python",
   "nbconvert_exporter": "python",
   "pygments_lexer": "ipython3",
   "version": "3.8.12"
  }
 },
 "nbformat": 4,
 "nbformat_minor": 5
}
